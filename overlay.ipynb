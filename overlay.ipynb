{
 "cells": [
  {
   "cell_type": "code",
   "execution_count": 2,
   "metadata": {},
   "outputs": [],
   "source": [
    "import os\n",
    "import cv2"
   ]
  },
  {
   "cell_type": "code",
   "execution_count": 10,
   "metadata": {},
   "outputs": [],
   "source": [
    "class ImgSeries:\n",
    "    \"\"\"Stores a series of SEM images.\n",
    "\n",
    "    Attributes:\n",
    "        plain: A list storing images without pre-processing as NumPy arrays\n",
    "        prep: A list storing pre-processed images as NumPy arrays\n",
    "    \"\"\"\n",
    "\n",
    "    def __init__(self, folder_path: str, interval: tuple=None):\n",
    "        \"\"\"Initializes an instance by loading .tiff images from a given folder.\n",
    "\n",
    "        Args:\n",
    "            folder_path: A string indicating the folder to use\n",
    "            interval: A tuple formatted (start, stop) indicating the index of the first and last .tiff file to load\n",
    "        \n",
    "        Raises:\n",
    "            AssertionError: When the indicated folder contains no .tiff files\n",
    "        \"\"\"\n",
    "        self.plain = []\n",
    "        self.prep = []\n",
    "        fname_list = [f for f in os.listdir(folder_path) if f.endswith(\".tiff\")]\n",
    "        assert len(fname_list) > 0, \"no .tiff files in the indicated folder\"\n",
    "        if interval:\n",
    "            fname_list = fname_list[interval[0]:interval[1]+1] #TODO check whether this works as intended\n",
    "        for fname in fname_list:\n",
    "            print(fname)\n",
    "            img_path = os.path.join(folder_path, fname)\n",
    "            img = cv2.imread(img_path, cv2.IMREAD_GRAYSCALE)\n",
    "            self.plain.append(img)\n",
    "\n",
    "    def __str__(self) -> str:\n",
    "        assert len(self.plain) > 0, \"ImgSeries is empty\"\n",
    "        return f\"ImgSeries containing {len(self.plain)} plain images with size {self.plain[0].shape} and {len(self.prep)} pre-processed images\""
   ]
  },
  {
   "cell_type": "code",
   "execution_count": null,
   "metadata": {},
   "outputs": [],
   "source": []
  }
 ],
 "metadata": {
  "kernelspec": {
   "display_name": "hectorkoopenv",
   "language": "python",
   "name": "python3"
  },
  "language_info": {
   "codemirror_mode": {
    "name": "ipython",
    "version": 3
   },
   "file_extension": ".py",
   "mimetype": "text/x-python",
   "name": "python",
   "nbconvert_exporter": "python",
   "pygments_lexer": "ipython3",
   "version": "3.11.0"
  }
 },
 "nbformat": 4,
 "nbformat_minor": 2
}
